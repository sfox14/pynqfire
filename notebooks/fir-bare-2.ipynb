{
 "cells": [
  {
   "cell_type": "code",
   "execution_count": 1,
   "metadata": {},
   "outputs": [
    {
     "data": {
      "application/javascript": [
       "\n",
       "require(['notebook/js/codecell'], function(codecell) {\n",
       "  codecell.CodeCell.options_default.highlight_modes[\n",
       "      'magic_text/x-csrc'] = {'reg':[/^%%microblaze/]};\n",
       "  Jupyter.notebook.events.one('kernel_ready.Kernel', function(){\n",
       "      Jupyter.notebook.get_cells().map(function(cell){\n",
       "          if (cell.cell_type == 'code'){ cell.auto_highlight(); } }) ;\n",
       "  });\n",
       "});\n"
      ]
     },
     "metadata": {},
     "output_type": "display_data"
    }
   ],
   "source": [
    "import cffi\n",
    "from pynq import Overlay,PL,Xlnk\n",
    "from fir import general_const\n",
    "import timeit\n",
    "import time\n",
    "import numpy as np\n",
    "\n",
    "\n",
    "#load bitstream\n",
    "libfile = general_const.LIBRARY\n",
    "bitfile = general_const.BITFILE\n",
    "\n",
    "#init cffi (this must be before mem_init() for some reason?)\n",
    "affi = cffi.FFI()\n",
    "affi.cdef(\"void _p0_cpp_FIR_1_noasync(int *x, int w[85], int *ret, int datalen);\")\n",
    "alib = affi.dlopen(libfile)\n",
    "    \n",
    "xlnk = Xlnk()\n",
    "fir_overlay = Overlay(bitfile)\n",
    "if PL.bitfile_name != bitfile:\n",
    "    fir_overlay.download()\n",
    "\n",
    "#xlnk.xlnk_reset()\n",
    "def mem_init(buflen):\n",
    "    \"\"\" Allocate contiguous memory buffer\n",
    "    \"\"\"\n",
    "    buf = xlnk.cma_alloc(buflen)\n",
    "    return xlnk.cma_cast(buf, \"int\")\n",
    "\n",
    "number=2000\n",
    "n = 1000\n",
    "dlen = n\n",
    "din = mem_init(n*4)\n",
    "win = mem_init(85)\n",
    "dout = mem_init(n*4)"
   ]
  },
  {
   "cell_type": "markdown",
   "metadata": {},
   "source": [
    "### Execution time: ABI v API"
   ]
  },
  {
   "cell_type": "code",
   "execution_count": 2,
   "metadata": {},
   "outputs": [
    {
     "name": "stdout",
     "output_type": "stream",
     "text": [
      "Running the benchmarks\n",
      "Time taken by abi 2000 times 1.907438557000205\n",
      "Time taken by api 2000 times 1.9033871480005473\n",
      "API Speedup = 1x\n"
     ]
    }
   ],
   "source": [
    "from fir import ffi, lib\n",
    "\n",
    "# call ABI accelerator\n",
    "def abiresp():\n",
    "    alib._p0_cpp_FIR_1_noasync(din,win,dout,dlen)\n",
    "\n",
    "# call API accelerator\n",
    "def apiresp():\n",
    "    lib._p0_cpp_FIR_1_noasync(din,win,dout,dlen)    \n",
    "\n",
    "\n",
    "print(\"Running the benchmarks\")\n",
    "abi_time = timeit.timeit(abiresp,number=number)\n",
    "api_time = timeit.timeit(apiresp,number=number)\n",
    "\n",
    "print(\"Time taken by abi\", number,\"times\",abi_time)\n",
    "print(\"Time taken by api\", number,\"times\",api_time)\n",
    "print(\"API Speedup = %dx\"%(abi_time/api_time))\n"
   ]
  },
  {
   "cell_type": "code",
   "execution_count": null,
   "metadata": {},
   "outputs": [],
   "source": []
  }
 ],
 "metadata": {
  "kernelspec": {
   "display_name": "Python 3",
   "language": "python",
   "name": "python3"
  },
  "language_info": {
   "codemirror_mode": {
    "name": "ipython",
    "version": 3
   },
   "file_extension": ".py",
   "mimetype": "text/x-python",
   "name": "python",
   "nbconvert_exporter": "python",
   "pygments_lexer": "ipython3",
   "version": "3.6.0"
  }
 },
 "nbformat": 4,
 "nbformat_minor": 2
}
