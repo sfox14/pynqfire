{
 "cells": [
  {
   "cell_type": "markdown",
   "metadata": {},
   "source": [
    "###  Implementation of a Low Pass FIR Filter with DMAs in SDSoC Ported to python"
   ]
  },
  {
   "cell_type": "code",
   "execution_count": 1,
   "metadata": {},
   "outputs": [
    {
     "data": {
      "application/javascript": [
       "\n",
       "require(['notebook/js/codecell'], function(codecell) {\n",
       "  codecell.CodeCell.options_default.highlight_modes[\n",
       "      'magic_text/x-csrc'] = {'reg':[/^%%microblaze/]};\n",
       "  Jupyter.notebook.events.one('kernel_ready.Kernel', function(){\n",
       "      Jupyter.notebook.get_cells().map(function(cell){\n",
       "          if (cell.cell_type == 'code'){ cell.auto_highlight(); } }) ;\n",
       "  });\n",
       "});\n"
      ]
     },
     "metadata": {},
     "output_type": "display_data"
    }
   ],
   "source": [
    "from pynq import Overlay,PL,Xlnk\n",
    "from fir import general_const\n",
    "import timeit\n",
    "\n",
    "#load bitstream\n",
    "libfile = general_const.LIBRARY\n",
    "bitfile = general_const.BITFILE\n",
    "fir_overlay = Overlay(bitfile)     \n",
    "if PL.bitfile_name != bitfile:\n",
    "    fir_overlay.download()\n",
    "    \n",
    "xlnk = Xlnk()\n",
    "def mem_init(buflen):\n",
    "    \"\"\" Allocate contiguous memory buffer\n",
    "    \"\"\"\n",
    "    buf = xlnk.cma_alloc(buflen)\n",
    "    return xlnk.cma_cast(buf, \"int\")\n",
    "\n",
    "number=2000\n",
    "n = dlen = 1000\n",
    "din = mem_init(n*4)\n",
    "win = mem_init(85)\n",
    "dout = mem_init(n*4)"
   ]
  },
  {
   "cell_type": "markdown",
   "metadata": {},
   "source": [
    "### ABI"
   ]
  },
  {
   "cell_type": "code",
   "execution_count": 2,
   "metadata": {},
   "outputs": [
    {
     "name": "stdout",
     "output_type": "stream",
     "text": [
      "Running the benchmarks\n",
      "Time taken by abi 2000 times 1.920367929036729\n"
     ]
    }
   ],
   "source": [
    "import cffi\n",
    "\n",
    "ffi0 = cffi.FFI()\n",
    "ffi0.cdef(\"void _p0_cpp_FIR_1_noasync(int *x, int w[85], int *ret, \"\n",
    "                  \"int datalen);\")\n",
    "lib0 = ffi0.dlopen(libfile)\n",
    "\n",
    "# call accelerator\n",
    "def abiresp():\n",
    "    lib0._p0_cpp_FIR_1_noasync(din,win,dout,dlen)\n",
    "\n",
    "print(\"Running the benchmarks\")\n",
    "print(\"Time taken by abi\", number,\"times\",timeit.timeit(abiresp,number=number))"
   ]
  },
  {
   "cell_type": "markdown",
   "metadata": {},
   "source": [
    "### API"
   ]
  },
  {
   "cell_type": "code",
   "execution_count": 3,
   "metadata": {
    "scrolled": true
   },
   "outputs": [
    {
     "name": "stdout",
     "output_type": "stream",
     "text": [
      "Running the benchmarks\n",
      "Time taken by api 2000 times 1.9022526310291141\n"
     ]
    }
   ],
   "source": [
    "# Steps taken for API mode:\n",
    "#   1. run example_build.py\n",
    "#   2. add \"from _example import fir, lib\" to __init__.py\n",
    "\n",
    "from fir import ffi, lib\n",
    "\n",
    "# call accelerator\n",
    "def apiresp():\n",
    "    lib._p0_cpp_FIR_1_noasync(din,win,dout,dlen)\n",
    "\n",
    "print(\"Running the benchmarks\")\n",
    "print(\"Time taken by api\", number,\"times\",timeit.timeit(apiresp,number=number))"
   ]
  },
  {
   "cell_type": "markdown",
   "metadata": {},
   "source": [
    "### Init"
   ]
  },
  {
   "cell_type": "code",
   "execution_count": 4,
   "metadata": {},
   "outputs": [
    {
     "name": "stdout",
     "output_type": "stream",
     "text": [
      "Time taken by abi 1 times 0.01767707703402266\n",
      "Time taken by api 1 times 4.811998223885894e-05\n"
     ]
    }
   ],
   "source": [
    "number=1\n",
    "\n",
    "def abiInit():\n",
    "    ffi0 = cffi.FFI()\n",
    "    ffi0.cdef(\"void _p0_cpp_FIR_1_noasync(int *x, int w[85], int *ret, \"\n",
    "                  \"int datalen);\")\n",
    "    lib0 = ffi0.dlopen(libfile)\n",
    "\n",
    "def apiInit():\n",
    "    from fir import ffi, lib\n",
    "    \n",
    "print(\"Time taken by abi\", number,\"times\",timeit.timeit(abiInit,number=number))\n",
    "print(\"Time taken by api\", number,\"times\",timeit.timeit(apiInit,number=number))"
   ]
  },
  {
   "cell_type": "code",
   "execution_count": null,
   "metadata": {},
   "outputs": [],
   "source": []
  }
 ],
 "metadata": {
  "kernelspec": {
   "display_name": "Python 3",
   "language": "python",
   "name": "python3"
  },
  "language_info": {
   "codemirror_mode": {
    "name": "ipython",
    "version": 3
   },
   "file_extension": ".py",
   "mimetype": "text/x-python",
   "name": "python",
   "nbconvert_exporter": "python",
   "pygments_lexer": "ipython3",
   "version": "3.6.0"
  }
 },
 "nbformat": 4,
 "nbformat_minor": 2
}
