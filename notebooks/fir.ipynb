{
 "cells": [
  {
   "cell_type": "markdown",
   "metadata": {},
   "source": [
    "###  Implementation of a Low Pass FIR Filter with DMAs in SDSoC Ported to python"
   ]
  },
  {
   "cell_type": "markdown",
   "metadata": {},
   "source": [
    "### ABI v API: Initialisation"
   ]
  },
  {
   "cell_type": "code",
   "execution_count": 5,
   "metadata": {},
   "outputs": [
    {
     "name": "stdout",
     "output_type": "stream",
     "text": [
      "Running the benchmarks\n",
      "Time taken by api 20 times 0.07980643096379936\n",
      "Time taken by abi 20 times 0.4268010210362263\n"
     ]
    }
   ],
   "source": [
    "from fir import fir\n",
    "from fir import fir_api\n",
    "\n",
    "number=20\n",
    "\n",
    "def apiresp():\n",
    "    api = fir_api()\n",
    "def abiresp():\n",
    "    abi = fir()\n",
    "\n",
    "print(\"Running the benchmarks\")\n",
    "import timeit\n",
    "print(\"Time taken by api\", number,\"times\",timeit.timeit(apiresp,number=number))\n",
    "print(\"Time taken by abi\", number,\"times\",timeit.timeit(abiresp,number=number))"
   ]
  },
  {
   "cell_type": "markdown",
   "metadata": {},
   "source": [
    "### ABI v API: Runtime"
   ]
  },
  {
   "cell_type": "code",
   "execution_count": 7,
   "metadata": {},
   "outputs": [
    {
     "ename": "NameError",
     "evalue": "name 'n' is not defined",
     "output_type": "error",
     "traceback": [
      "\u001b[0;31m---------------------------------------------------------------------------\u001b[0m",
      "\u001b[0;31mNameError\u001b[0m                                 Traceback (most recent call last)",
      "\u001b[0;32m<ipython-input-7-1d5d765e5072>\u001b[0m in \u001b[0;36m<module>\u001b[0;34m()\u001b[0m\n\u001b[1;32m      7\u001b[0m \u001b[0mnumber\u001b[0m\u001b[0;34m=\u001b[0m\u001b[0;36m2000\u001b[0m\u001b[0;34m\u001b[0m\u001b[0m\n\u001b[1;32m      8\u001b[0m \u001b[0mdlen\u001b[0m \u001b[0;34m=\u001b[0m \u001b[0;36m1000\u001b[0m\u001b[0;34m\u001b[0m\u001b[0m\n\u001b[0;32m----> 9\u001b[0;31m \u001b[0mdin\u001b[0m \u001b[0;34m=\u001b[0m \u001b[0maccel_abi\u001b[0m\u001b[0;34m.\u001b[0m\u001b[0mmem_init\u001b[0m\u001b[0;34m(\u001b[0m\u001b[0mn\u001b[0m\u001b[0;34m*\u001b[0m\u001b[0;36m4\u001b[0m\u001b[0;34m)\u001b[0m\u001b[0;34m\u001b[0m\u001b[0m\n\u001b[0m\u001b[1;32m     10\u001b[0m \u001b[0mwin\u001b[0m \u001b[0;34m=\u001b[0m \u001b[0maccel_abi\u001b[0m\u001b[0;34m.\u001b[0m\u001b[0mmem_init\u001b[0m\u001b[0;34m(\u001b[0m\u001b[0;36m85\u001b[0m\u001b[0;34m)\u001b[0m\u001b[0;34m\u001b[0m\u001b[0m\n\u001b[1;32m     11\u001b[0m \u001b[0mdout\u001b[0m \u001b[0;34m=\u001b[0m \u001b[0maccel_abi\u001b[0m\u001b[0;34m.\u001b[0m\u001b[0mmem_init\u001b[0m\u001b[0;34m(\u001b[0m\u001b[0mn\u001b[0m\u001b[0;34m*\u001b[0m\u001b[0;36m4\u001b[0m\u001b[0;34m)\u001b[0m\u001b[0;34m\u001b[0m\u001b[0m\n",
      "\u001b[0;31mNameError\u001b[0m: name 'n' is not defined"
     ]
    }
   ],
   "source": [
    "from fir import fir\n",
    "\n",
    "accel_abi = fir()\n",
    "\n",
    "accel_abi.reset()\n",
    "\n",
    "number=2000\n",
    "dlen = 1000\n",
    "din = accel_abi.mem_init(n*4)\n",
    "win = accel_abi.mem_init(85)\n",
    "dout = accel_abi.mem_init(n*4)\n",
    "\n",
    "def abiresp():\n",
    "    accel_abi.get_response(din,win,dout,dlen)\n",
    "    \n",
    "print(\"Running the benchmarks\")\n",
    "import timeit\n",
    "print(\"Time taken by abi\", number,\"times\",timeit.timeit(abiresp,number=number))"
   ]
  },
  {
   "cell_type": "code",
   "execution_count": 8,
   "metadata": {},
   "outputs": [],
   "source": [
    "from fir import fir_api\n",
    "\n",
    "accel_api = fir_api()\n",
    "\n",
    "accel_api.reset()\n",
    "\n",
    "number=2000\n",
    "dlen = 1000\n",
    "din = accel_api.mem_init(n*4)\n",
    "win = accel_api.mem_init(85)\n",
    "dout = accel_api.mem_init(n*4)\n",
    "\n",
    "def apiresp():\n",
    "    accel_api.get_response(din,win,dout,dlen)\n",
    "\n",
    "print(\"Running the benchmarks\")\n",
    "import timeit\n",
    "print(\"Time taken by api\", number,\"times\",timeit.timeit(apiresp,number=number))"
   ]
  }
 ],
 "metadata": {
  "kernelspec": {
   "display_name": "Python 3",
   "language": "python",
   "name": "python3"
  },
  "language_info": {
   "codemirror_mode": {
    "name": "ipython",
    "version": 3
   },
   "file_extension": ".py",
   "mimetype": "text/x-python",
   "name": "python",
   "nbconvert_exporter": "python",
   "pygments_lexer": "ipython3",
   "version": "3.6.0"
  }
 },
 "nbformat": 4,
 "nbformat_minor": 2
}
