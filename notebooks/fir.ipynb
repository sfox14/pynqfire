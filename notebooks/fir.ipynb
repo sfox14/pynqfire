{
 "cells": [
  {
   "cell_type": "markdown",
   "metadata": {},
   "source": [
    "###  Implementation of a Low Pass FIR Filter with DMAs in SDSoC Ported to python"
   ]
  },
  {
   "cell_type": "markdown",
   "metadata": {},
   "source": [
    "### ABI v API: Initialisation"
   ]
  },
  {
   "cell_type": "code",
   "execution_count": 1,
   "metadata": {},
   "outputs": [
    {
     "data": {
      "application/javascript": [
       "\n",
       "require(['notebook/js/codecell'], function(codecell) {\n",
       "  codecell.CodeCell.options_default.highlight_modes[\n",
       "      'magic_text/x-csrc'] = {'reg':[/^%%microblaze/]};\n",
       "  Jupyter.notebook.events.one('kernel_ready.Kernel', function(){\n",
       "      Jupyter.notebook.get_cells().map(function(cell){\n",
       "          if (cell.cell_type == 'code'){ cell.auto_highlight(); } }) ;\n",
       "  });\n",
       "});\n"
      ]
     },
     "metadata": {},
     "output_type": "display_data"
    },
    {
     "name": "stdout",
     "output_type": "stream",
     "text": [
      "Running the benchmarks\n",
      "Time taken by abi 20 times 0.4194302150281146\n",
      "Time taken by api 20 times 0.07669287302996963\n"
     ]
    }
   ],
   "source": [
    "from fir import fir\n",
    "from fir import fir_api\n",
    "\n",
    "number=20\n",
    "\n",
    "def apiresp():\n",
    "    api = fir_api()\n",
    "def abiresp():\n",
    "    abi = fir()\n",
    "\n",
    "print(\"Running the benchmarks\")\n",
    "import timeit\n",
    "print(\"Time taken by abi\", number,\"times\",timeit.timeit(abiresp,number=number))\n",
    "print(\"Time taken by api\", number,\"times\",timeit.timeit(apiresp,number=number))"
   ]
  },
  {
   "cell_type": "markdown",
   "metadata": {},
   "source": [
    "### ABI v API: Runtime"
   ]
  },
  {
   "cell_type": "code",
   "execution_count": 2,
   "metadata": {},
   "outputs": [
    {
     "name": "stdout",
     "output_type": "stream",
     "text": [
      "Running the benchmarks\n",
      "Time taken by abi 2000 times 2.0388503880240023\n"
     ]
    }
   ],
   "source": [
    "from fir import fir\n",
    "\n",
    "accel_abi = fir()\n",
    "\n",
    "accel_abi.reset()\n",
    "\n",
    "number=2000\n",
    "n = dlen = 1000\n",
    "din = accel_abi.mem_init(n*4)\n",
    "win = accel_abi.mem_init(85)\n",
    "dout = accel_abi.mem_init(n*4)\n",
    "\n",
    "def abiresp():\n",
    "    accel_abi.get_response(din,win,dout,dlen)\n",
    "    \n",
    "print(\"Running the benchmarks\")\n",
    "import timeit\n",
    "print(\"Time taken by abi\", number,\"times\",timeit.timeit(abiresp,number=number))"
   ]
  },
  {
   "cell_type": "code",
   "execution_count": 3,
   "metadata": {},
   "outputs": [
    {
     "name": "stdout",
     "output_type": "stream",
     "text": [
      "Running the benchmarks\n",
      "Time taken by api 2000 times 2.033650966011919\n"
     ]
    }
   ],
   "source": [
    "from fir import fir_api\n",
    "\n",
    "accel_api = fir_api()\n",
    "\n",
    "accel_api.reset()\n",
    "\n",
    "number=2000\n",
    "dlen = 1000\n",
    "din = accel_api.mem_init(n*4)\n",
    "win = accel_api.mem_init(85)\n",
    "dout = accel_api.mem_init(n*4)\n",
    "\n",
    "def apiresp():\n",
    "    accel_api.get_response(din,win,dout,dlen)\n",
    "\n",
    "print(\"Running the benchmarks\")\n",
    "import timeit\n",
    "print(\"Time taken by api\", number,\"times\",timeit.timeit(apiresp,number=number))"
   ]
  },
  {
   "cell_type": "code",
   "execution_count": null,
   "metadata": {},
   "outputs": [],
   "source": []
  }
 ],
 "metadata": {
  "kernelspec": {
   "display_name": "Python 3",
   "language": "python",
   "name": "python3"
  },
  "language_info": {
   "codemirror_mode": {
    "name": "ipython",
    "version": 3
   },
   "file_extension": ".py",
   "mimetype": "text/x-python",
   "name": "python",
   "nbconvert_exporter": "python",
   "pygments_lexer": "ipython3",
   "version": "3.6.0"
  }
 },
 "nbformat": 4,
 "nbformat_minor": 2
}
